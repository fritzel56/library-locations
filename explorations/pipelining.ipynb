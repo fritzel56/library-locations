{
 "cells": [
  {
   "cell_type": "code",
   "execution_count": null,
   "metadata": {},
   "outputs": [],
   "source": [
    "%matplotlib inline\n",
    "import os\n",
    "import geopandas as gpd\n",
    "import matplotlib.pyplot as plt\n",
    "import pandas as pd\n",
    "import shapely\n",
    "import ottawa_libraries as ol\n",
    "import pulling_library_info"
   ]
  },
  {
   "cell_type": "code",
   "execution_count": null,
   "metadata": {},
   "outputs": [],
   "source": [
    "def get_map_data(city):\n",
    "    if city == 'Ottawa': city = \"Ottawa - Gatineau (Ontario part / partie de l'Ontario)\"\n",
    "    elif city == 'Montreal': city = 'Montréal'\n",
    "    census_file = 'data/census_tracts.shp'\n",
    "    canada_census = gpd.read_file(census_file)\n",
    "    city_census = canada_census[(canada_census.CMANAME==city)]\n",
    "    city_census = city_census.to_crs('epsg:4326')\n",
    "    return city_census"
   ]
  },
  {
   "cell_type": "code",
   "execution_count": null,
   "metadata": {},
   "outputs": [],
   "source": [
    "def format_library_data(library_data):\n",
    "    libraries = pd.DataFrame(library_data)\n",
    "    libraries = libraries.T.reset_index()\n",
    "    libraries = libraries.rename(columns={'index':'Name'})\n",
    "    libraries['Latitude'] = pd.to_numeric(libraries['Latitude'])\n",
    "    libraries['Longitude'] = pd.to_numeric(libraries['Longitude'])\n",
    "    libraries['geometry'] = libraries.apply(lambda x:\n",
    "                                                shapely.geometry.point.Point(x['Longitude'], x['Latitude']),\n",
    "                                                axis=1)\n",
    "    libraries_gpd = gpd.GeoDataFrame(libraries)\n",
    "    return libraries_gpd"
   ]
  },
  {
   "cell_type": "code",
   "execution_count": null,
   "metadata": {},
   "outputs": [],
   "source": [
    "def add_in_density(map_data, city):\n",
    "    pop_data = pd.read_csv('data/98-401-X2016043_eng_CSV/98-401-X2016043_English_CSV_data.csv')\n",
    "    city_pop_data = pop_data[pop_data['GEO_CODE (POR)'].isin(map_data.CTUID)]\n",
    "    city_pop_data = city_pop_data.loc[city_pop_data[\"DIM: Profile of Census Tracts (2247)\"]=='Population, 2016']\n",
    "    city_pop_data['population'] = city_pop_data['Dim: Sex (3): Member ID: [1]: Total - Sex']\n",
    "    # resolves issue with 2 census tracts in Montreal (doesn't impact any of the other top cities)\n",
    "    # TODO: see if '..' codes to something\n",
    "    city_pop_data['population'] = city_pop_data['population'].replace('..', 0)\n",
    "    \n",
    "    city_pop_data['population'] = pd.to_numeric(city_pop_data['population'])\n",
    "\n",
    "    map_data['CTUID'] = pd.to_numeric(map_data['CTUID'])\n",
    "    map_data = map_data.merge(right=city_pop_data, how='left',\n",
    "                                  left_on='CTUID', right_on='GEO_CODE (POR)')\n",
    "    map_data['density'] = map_data['population']/map_data.area\n",
    "    return map_data"
   ]
  },
  {
   "cell_type": "code",
   "execution_count": null,
   "metadata": {},
   "outputs": [],
   "source": [
    "def pipeline(city):\n",
    "    library_data = pulling_library_info.main(city)\n",
    "    libraries_gpd = format_library_data(library_data)\n",
    "    map_data = get_map_data(city)\n",
    "    map_data = add_in_density(map_data, city)\n",
    "    map_data_display = map_data[['geometry', 'population', 'density']]\n",
    "    m = map_data_display.explore(column='density')\n",
    "    libraries_gpd.explore(m=m, color='red')\n",
    "    print(m.crs)\n",
    "    display(m)\n",
    "    return m"
   ]
  },
  {
   "cell_type": "code",
   "execution_count": null,
   "metadata": {},
   "outputs": [],
   "source": [
    "m_ottawa = pipeline('Ottawa')"
   ]
  },
  {
   "cell_type": "code",
   "execution_count": null,
   "metadata": {},
   "outputs": [],
   "source": [
    "type(m_ottawa)"
   ]
  },
  {
   "cell_type": "code",
   "execution_count": null,
   "metadata": {},
   "outputs": [],
   "source": [
    "m_ottawa.crs"
   ]
  },
  {
   "cell_type": "code",
   "execution_count": null,
   "metadata": {},
   "outputs": [],
   "source": [
    "m_calgary = pipeline('Calgary')"
   ]
  },
  {
   "cell_type": "code",
   "execution_count": null,
   "metadata": {},
   "outputs": [],
   "source": [
    "m_ottawa"
   ]
  },
  {
   "cell_type": "code",
   "execution_count": null,
   "metadata": {},
   "outputs": [],
   "source": [
    "m_edmonton = pipeline('Edmonton')"
   ]
  },
  {
   "cell_type": "code",
   "execution_count": null,
   "metadata": {},
   "outputs": [],
   "source": [
    "m_toronto = pipeline('Toronto')"
   ]
  },
  {
   "cell_type": "code",
   "execution_count": null,
   "metadata": {},
   "outputs": [],
   "source": [
    "m_montreal = pipeline('Montreal')"
   ]
  },
  {
   "cell_type": "code",
   "execution_count": null,
   "metadata": {},
   "outputs": [],
   "source": []
  }
 ],
 "metadata": {
  "kernelspec": {
   "display_name": "Python 3",
   "language": "python",
   "name": "python3"
  },
  "language_info": {
   "codemirror_mode": {
    "name": "ipython",
    "version": 3
   },
   "file_extension": ".py",
   "mimetype": "text/x-python",
   "name": "python",
   "nbconvert_exporter": "python",
   "pygments_lexer": "ipython3",
   "version": "3.7.4"
  }
 },
 "nbformat": 4,
 "nbformat_minor": 2
}
