{
 "cells": [
  {
   "cell_type": "markdown",
   "metadata": {},
   "source": [
    "Data found [here](https://opendata.tplcs.ca/)."
   ]
  },
  {
   "cell_type": "code",
   "execution_count": null,
   "metadata": {},
   "outputs": [],
   "source": [
    "\"\"\"Pulls in data containing library data and returns parsed dictionary.\n",
    "\"\"\"\n",
    "import urllib\n",
    "import xmltodict\n",
    "import ssl\n",
    "import json"
   ]
  },
  {
   "cell_type": "code",
   "execution_count": null,
   "metadata": {},
   "outputs": [],
   "source": [
    "url = 'https://www.torontopubliclibrary.ca/data/library-data.kml'"
   ]
  },
  {
   "cell_type": "code",
   "execution_count": null,
   "metadata": {},
   "outputs": [],
   "source": [
    "toronto_data = urllib.request.urlopen(url).read()"
   ]
  },
  {
   "cell_type": "code",
   "execution_count": null,
   "metadata": {},
   "outputs": [],
   "source": [
    "libraries = xmltodict.parse(toronto_data)"
   ]
  },
  {
   "cell_type": "code",
   "execution_count": null,
   "metadata": {},
   "outputs": [],
   "source": [
    "type(libraries['kml']['Document']['Placemark'])"
   ]
  },
  {
   "cell_type": "code",
   "execution_count": null,
   "metadata": {},
   "outputs": [],
   "source": [
    "type(libraries['kml']['Document']['Placemark'][0])"
   ]
  },
  {
   "cell_type": "code",
   "execution_count": null,
   "metadata": {},
   "outputs": [],
   "source": [
    "import pprint"
   ]
  },
  {
   "cell_type": "code",
   "execution_count": null,
   "metadata": {},
   "outputs": [],
   "source": [
    "pprint.pprint(libraries['kml']['Document']['Placemark'][0])"
   ]
  },
  {
   "cell_type": "code",
   "execution_count": null,
   "metadata": {},
   "outputs": [],
   "source": [
    "libraries['kml']['Document']['Placemark'][0].keys()"
   ]
  },
  {
   "cell_type": "code",
   "execution_count": null,
   "metadata": {},
   "outputs": [],
   "source": [
    "libraries['kml']['Document']['Placemark'][0]['Point']['coordinates'].split(',')"
   ]
  },
  {
   "cell_type": "code",
   "execution_count": null,
   "metadata": {},
   "outputs": [],
   "source": [
    "def get_toronto_locations():\n",
    "    \"\"\"The ottawa library system provides a well structure data set with\n",
    "    various library info. The following code works to pull and format it\n",
    "    as of February 2022.\n",
    "    \n",
    "    Returns:\n",
    "        dict: dictionary of Ottawa library names and their lat/long\n",
    "    \"\"\"\n",
    "    url = 'https://www.torontopubliclibrary.ca/data/library-data.kml'\n",
    "    toronto_data = urllib.request.urlopen(url).read()\n",
    "    libraries = xmltodict.parse(toronto_data)\n",
    "    libraries = libraries['kml']['Document']['Placemark']\n",
    "    toronto_libraries = {}\n",
    "    for library in libraries:\n",
    "        loc = library['Point']['coordinates'].split(',')\n",
    "        location = {}\n",
    "        location['Latitude'] = loc[1]\n",
    "        location['Longitude'] = loc[0]\n",
    "        toronto_libraries[library['name']] = location\n",
    "    return toronto_libraries"
   ]
  },
  {
   "cell_type": "code",
   "execution_count": null,
   "metadata": {},
   "outputs": [],
   "source": [
    "get_toronto_locations()"
   ]
  },
  {
   "cell_type": "code",
   "execution_count": null,
   "metadata": {},
   "outputs": [],
   "source": []
  }
 ],
 "metadata": {
  "kernelspec": {
   "display_name": "Python 3",
   "language": "python",
   "name": "python3"
  },
  "language_info": {
   "codemirror_mode": {
    "name": "ipython",
    "version": 3
   },
   "file_extension": ".py",
   "mimetype": "text/x-python",
   "name": "python",
   "nbconvert_exporter": "python",
   "pygments_lexer": "ipython3",
   "version": "3.7.4"
  }
 },
 "nbformat": 4,
 "nbformat_minor": 2
}
