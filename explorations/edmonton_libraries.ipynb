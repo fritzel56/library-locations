{
 "cells": [
  {
   "cell_type": "markdown",
   "metadata": {},
   "source": [
    "Data from [here](https://data.edmonton.ca/Community-Centres/Public-Libraries/jn25-zspi)."
   ]
  },
  {
   "cell_type": "code",
   "execution_count": null,
   "metadata": {},
   "outputs": [],
   "source": [
    "import urllib.request\n",
    "import json "
   ]
  },
  {
   "cell_type": "code",
   "execution_count": null,
   "metadata": {},
   "outputs": [],
   "source": [
    "url = \"https://data.edmonton.ca/resource/jn25-zspi.json\"\n",
    "edmonton_data = urllib.request.urlopen(url).read()\n",
    "data = json.loads(edmonton_data)"
   ]
  },
  {
   "cell_type": "code",
   "execution_count": null,
   "metadata": {},
   "outputs": [],
   "source": [
    "data"
   ]
  },
  {
   "cell_type": "code",
   "execution_count": null,
   "metadata": {},
   "outputs": [],
   "source": [
    "edmonton_libraries = {}"
   ]
  },
  {
   "cell_type": "code",
   "execution_count": null,
   "metadata": {},
   "outputs": [],
   "source": [
    "for lib in data:\n",
    "    try:\n",
    "        print(lib['latitude'])\n",
    "        print(lib['longitude'])\n",
    "    except:\n",
    "        print(lib)\n",
    "#     location = {}\n",
    "#     location['Latitude'] = lib['latitude']\n",
    "#     location['Longitude'] = lib['longitude']\n",
    "#     edmonton_libraries[lib['branch']] = location"
   ]
  },
  {
   "cell_type": "code",
   "execution_count": null,
   "metadata": {},
   "outputs": [],
   "source": [
    "def get_edmonton_locations():\n",
    "    url = \"https://data.edmonton.ca/resource/jn25-zspi.json\"\n",
    "    edmonton_data = urllib.request.urlopen(url).read()\n",
    "    data = json.loads(edmonton_data)\n",
    "    edmonton_libraries = {}\n",
    "    for lib in data:\n",
    "        # for some reason the location data for this library was not included so hard coding it here\n",
    "        # raised the issue with city of Edmnton\n",
    "        if lib['branch'] == \"Shelley Milner Children's Library\":\n",
    "            location = {}\n",
    "            location['Latitude'] = 53.543273\n",
    "            location['Longitude'] = -113.490284\n",
    "            edmonton_libraries[lib['branch']] = location\n",
    "        else:\n",
    "            location = {}\n",
    "            location['Latitude'] = lib['latitude']\n",
    "            location['Longitude'] = lib['longitude']\n",
    "            edmonton_libraries[lib['branch']] = location\n",
    "    return edmonton_libraries"
   ]
  },
  {
   "cell_type": "code",
   "execution_count": null,
   "metadata": {},
   "outputs": [],
   "source": [
    "import pprint"
   ]
  },
  {
   "cell_type": "code",
   "execution_count": null,
   "metadata": {},
   "outputs": [],
   "source": [
    "pprint.pprint(get_edmonton_locations())"
   ]
  },
  {
   "cell_type": "code",
   "execution_count": null,
   "metadata": {},
   "outputs": [],
   "source": []
  }
 ],
 "metadata": {
  "kernelspec": {
   "display_name": "Python 3",
   "language": "python",
   "name": "python3"
  },
  "language_info": {
   "codemirror_mode": {
    "name": "ipython",
    "version": 3
   },
   "file_extension": ".py",
   "mimetype": "text/x-python",
   "name": "python",
   "nbconvert_exporter": "python",
   "pygments_lexer": "ipython3",
   "version": "3.7.4"
  }
 },
 "nbformat": 4,
 "nbformat_minor": 2
}
