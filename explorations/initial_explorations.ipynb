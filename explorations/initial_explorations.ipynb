{
 "cells": [
  {
   "cell_type": "markdown",
   "metadata": {},
   "source": [
    "Notebook to play around with pulling the library data and displaying it on a map plus pulling in some census data."
   ]
  },
  {
   "cell_type": "code",
   "execution_count": null,
   "metadata": {},
   "outputs": [],
   "source": [
    "%matplotlib inline\n",
    "import os\n",
    "import geopandas as gpd\n",
    "import matplotlib.pyplot as plt\n",
    "import pandas as pd\n",
    "import shapely\n",
    "import ottawa_libraries as ol"
   ]
  },
  {
   "cell_type": "markdown",
   "metadata": {},
   "source": [
    "### Pull library data"
   ]
  },
  {
   "cell_type": "code",
   "execution_count": null,
   "metadata": {},
   "outputs": [],
   "source": [
    "ottawa_locations = ol.get_ottawa_locations()"
   ]
  },
  {
   "cell_type": "markdown",
   "metadata": {},
   "source": [
    "### Open and explore map data"
   ]
  },
  {
   "cell_type": "code",
   "execution_count": null,
   "metadata": {},
   "outputs": [],
   "source": [
    "# open and plot the data. looks like Toronto\n",
    "census_file = 'data/census_tracts.shp'\n",
    "canada_census = gpd.read_file(census_file)"
   ]
  },
  {
   "cell_type": "code",
   "execution_count": null,
   "metadata": {},
   "outputs": [],
   "source": [
    "canada_census.CMANAME.unique()"
   ]
  },
  {
   "cell_type": "markdown",
   "metadata": {},
   "source": [
    "### Get and explore Ottawa map data"
   ]
  },
  {
   "cell_type": "code",
   "execution_count": null,
   "metadata": {},
   "outputs": [],
   "source": [
    "ottawa_census = canada_census[(canada_census.CMANAME==\"Ottawa - Gatineau (Ontario part / partie de l'Ontario)\")]\n",
    "ottawa_census.plot()"
   ]
  },
  {
   "cell_type": "code",
   "execution_count": null,
   "metadata": {},
   "outputs": [],
   "source": [
    "# Changing size\n",
    "fig, ax = plt.subplots(figsize=(20,20))\n",
    "ottawa_census.plot(ax=ax)"
   ]
  },
  {
   "cell_type": "markdown",
   "metadata": {},
   "source": [
    "### Convert library data to pandas"
   ]
  },
  {
   "cell_type": "code",
   "execution_count": null,
   "metadata": {},
   "outputs": [],
   "source": [
    "libraries = pd.DataFrame(ottawa_locations)\n",
    "# pivot the dataframe\n",
    "libraries = libraries.T.reset_index()\n",
    "libraries = libraries.rename(columns={'index':'Name'})"
   ]
  },
  {
   "cell_type": "code",
   "execution_count": null,
   "metadata": {},
   "outputs": [],
   "source": [
    "libraries.head()"
   ]
  },
  {
   "cell_type": "code",
   "execution_count": null,
   "metadata": {},
   "outputs": [],
   "source": [
    "libraries['Latitude'] = pd.to_numeric(libraries['Latitude'])\n",
    "libraries['Longitude'] = pd.to_numeric(libraries['Longitude'])"
   ]
  },
  {
   "cell_type": "markdown",
   "metadata": {},
   "source": [
    "### Convert library data to geopandas"
   ]
  },
  {
   "cell_type": "code",
   "execution_count": null,
   "metadata": {},
   "outputs": [],
   "source": [
    "libraries['geometry'] = libraries.apply(lambda x:\n",
    "                                                shapely.geometry.point.Point(x['Longitude'], x['Latitude']),\n",
    "                                                axis=1)\n",
    "libraries_gpd = gpd.GeoDataFrame(libraries)"
   ]
  },
  {
   "cell_type": "code",
   "execution_count": null,
   "metadata": {},
   "outputs": [],
   "source": [
    "libraries_gpd.head()"
   ]
  },
  {
   "cell_type": "markdown",
   "metadata": {},
   "source": [
    "### Plot Ottawa and library data"
   ]
  },
  {
   "cell_type": "code",
   "execution_count": null,
   "metadata": {},
   "outputs": [],
   "source": [
    "# Let's plot the libraries onto the map\n",
    "fig, ax = plt.subplots(figsize=(20,20))\n",
    "ottawa_census.plot(ax=ax)\n",
    "libraries_gpd.plot(ax=ax, markersize=10, color='red')"
   ]
  },
  {
   "cell_type": "code",
   "execution_count": null,
   "metadata": {},
   "outputs": [],
   "source": [
    "ottawa_census = ottawa_census.to_crs('epsg:4326')"
   ]
  },
  {
   "cell_type": "code",
   "execution_count": null,
   "metadata": {},
   "outputs": [],
   "source": [
    "# Let's plot the libraries onto the map\n",
    "fig, ax = plt.subplots(figsize=(20,20))\n",
    "ottawa_census.plot(ax=ax)\n",
    "libraries_gpd.plot(ax=ax, markersize=10, color='red')"
   ]
  },
  {
   "cell_type": "markdown",
   "metadata": {},
   "source": [
    "### Open and explore census data"
   ]
  },
  {
   "cell_type": "code",
   "execution_count": null,
   "metadata": {},
   "outputs": [],
   "source": [
    "pop_data = pd.read_csv('data/98-401-X2016043_eng_CSV/98-401-X2016043_English_CSV_data.csv')"
   ]
  },
  {
   "cell_type": "code",
   "execution_count": null,
   "metadata": {},
   "outputs": [],
   "source": [
    "pop_data.head()"
   ]
  },
  {
   "cell_type": "markdown",
   "metadata": {},
   "source": [
    "### Restrict census data"
   ]
  },
  {
   "cell_type": "code",
   "execution_count": null,
   "metadata": {},
   "outputs": [],
   "source": [
    "len(ottawa_census.CTUID)"
   ]
  },
  {
   "cell_type": "code",
   "execution_count": null,
   "metadata": {},
   "outputs": [],
   "source": [
    "len(pop_data[pop_data['GEO_CODE (POR)'].isin(ottawa_census.CTUID)])"
   ]
  },
  {
   "cell_type": "code",
   "execution_count": null,
   "metadata": {},
   "outputs": [],
   "source": [
    "len(pop_data[pop_data['GEO_CODE (POR)'].isin(ottawa_census.CTUID)]['GEO_CODE (POR)'].unique())"
   ]
  },
  {
   "cell_type": "code",
   "execution_count": null,
   "metadata": {},
   "outputs": [],
   "source": [
    "ottawa_pop_data = pop_data[pop_data['GEO_CODE (POR)'].isin(ottawa_census.CTUID)]"
   ]
  },
  {
   "cell_type": "code",
   "execution_count": null,
   "metadata": {},
   "outputs": [],
   "source": [
    "len(ottawa_pop_data)"
   ]
  },
  {
   "cell_type": "code",
   "execution_count": null,
   "metadata": {},
   "outputs": [],
   "source": [
    "len(ottawa_pop_data['GEO_CODE (POR)'].unique())"
   ]
  },
  {
   "cell_type": "code",
   "execution_count": null,
   "metadata": {},
   "outputs": [],
   "source": [
    "len(ottawa_pop_data.loc[ottawa_pop_data[\"DIM: Profile of Census Tracts (2247)\"]=='Population, 2016'])"
   ]
  },
  {
   "cell_type": "code",
   "execution_count": null,
   "metadata": {},
   "outputs": [],
   "source": [
    "ottawa_pop_data = ottawa_pop_data.loc[ottawa_pop_data[\"DIM: Profile of Census Tracts (2247)\"]=='Population, 2016']"
   ]
  },
  {
   "cell_type": "code",
   "execution_count": null,
   "metadata": {},
   "outputs": [],
   "source": [
    "ottawa_pop_data['pop'] = ottawa_pop_data['Dim: Sex (3): Member ID: [1]: Total - Sex']"
   ]
  },
  {
   "cell_type": "code",
   "execution_count": null,
   "metadata": {},
   "outputs": [],
   "source": [
    "ottawa_pop_data['pop'] = pd.to_numeric(ottawa_pop_data['pop'])"
   ]
  },
  {
   "cell_type": "markdown",
   "metadata": {},
   "source": [
    "Below doesn't quite line up with the data [here](https://www12.statcan.gc.ca/census-recensement/2016/dp-pd/prof/details/page.cfm?Lang=E&Geo1=CSD&Geo2=PR&Code2=01&Data=Count&SearchType=Begins&SearchPR=01&B1=All&Code1=3506008) where it shows 934,243. General ballpark. Of note, the census tracts shown here are for `Ottawa - Gatineau (Ontario part / partie de l'Ontario)` so I hypothesise that we're getting a couple tracts beyond just Ottawa. __Should come back and validate!__"
   ]
  },
  {
   "cell_type": "code",
   "execution_count": null,
   "metadata": {},
   "outputs": [],
   "source": [
    "ottawa_pop_data['pop'].sum()"
   ]
  },
  {
   "cell_type": "markdown",
   "metadata": {},
   "source": [
    "### Join map data and census data"
   ]
  },
  {
   "cell_type": "code",
   "execution_count": null,
   "metadata": {},
   "outputs": [],
   "source": [
    "ottawa_census_pd = pd.DataFrame(ottawa_census)\n",
    "ottawa_census_pd['CTUID'] = pd.to_numeric(ottawa_census_pd['CTUID'])\n",
    "ottawa_census_pd = ottawa_census_pd.merge(right=ottawa_pop_data, how='left',\n",
    "                              left_on='CTUID', right_on='GEO_CODE (POR)')"
   ]
  },
  {
   "cell_type": "code",
   "execution_count": null,
   "metadata": {},
   "outputs": [],
   "source": [
    "ottawa_census_gpd = gpd.GeoDataFrame(ottawa_census_pd)"
   ]
  },
  {
   "cell_type": "markdown",
   "metadata": {},
   "source": [
    "### Plot with population as colour"
   ]
  },
  {
   "cell_type": "code",
   "execution_count": null,
   "metadata": {},
   "outputs": [],
   "source": [
    "fig, ax = plt.subplots(figsize=(20,20))\n",
    "ottawa_census_gpd.plot(ax=ax, column='pop', cmap='Blues')\n",
    "libraries_gpd.plot(ax=ax, markersize=10, color='red')"
   ]
  },
  {
   "cell_type": "code",
   "execution_count": null,
   "metadata": {},
   "outputs": [],
   "source": [
    "ottawa_census_gpd = ottawa_census_gpd.to_crs('epsg:4326')"
   ]
  },
  {
   "cell_type": "markdown",
   "metadata": {},
   "source": [
    "### Calculate and plot population density"
   ]
  },
  {
   "cell_type": "code",
   "execution_count": null,
   "metadata": {},
   "outputs": [],
   "source": [
    "\"\"\"\n",
    "keep getting error:\n",
    "UserWarning: Geometry is in a geographic CRS. Results from 'area' are likely incorrect.\n",
    "Use 'GeoSeries.to_crs()' to re-project geometries to a projected CRS before this operation.\n",
    "Unclear why given I'm doing this in the cell above.\n",
    "\"\"\"\n",
    "ottawa_census_gpd['density'] = ottawa_census_gpd['pop']/ottawa_census_gpd.area"
   ]
  },
  {
   "cell_type": "code",
   "execution_count": null,
   "metadata": {},
   "outputs": [],
   "source": [
    "fig, ax = plt.subplots(figsize=(20,20))\n",
    "ottawa_census_gpd.plot(ax=ax, column='density', cmap='Blues')\n",
    "libraries_gpd.plot(ax=ax, markersize=10, color='red')"
   ]
  },
  {
   "cell_type": "code",
   "execution_count": null,
   "metadata": {},
   "outputs": [],
   "source": [
    "ottawa_census_gpd.crs"
   ]
  },
  {
   "cell_type": "markdown",
   "metadata": {},
   "source": [
    "### Check out interactive map"
   ]
  },
  {
   "cell_type": "code",
   "execution_count": null,
   "metadata": {},
   "outputs": [],
   "source": [
    "ottawa_census_gpd['area'] = ottawa_census_gpd.area\n",
    "ottawa_census_display = ottawa_census_gpd[['geometry', 'pop', 'density', 'area']]"
   ]
  },
  {
   "cell_type": "code",
   "execution_count": null,
   "metadata": {},
   "outputs": [],
   "source": [
    "m = ottawa_census_display.explore(column='density')\n",
    "libraries_gpd.explore(m=m, color='red')"
   ]
  },
  {
   "cell_type": "markdown",
   "metadata": {},
   "source": [
    "### Look at density distributions\n",
    "Was really shocked how few tracts have really high denisty"
   ]
  },
  {
   "cell_type": "code",
   "execution_count": null,
   "metadata": {},
   "outputs": [],
   "source": [
    "ottawa_census_gpd.density.plot(kind='hist', bins=15, figsize=(13,5))"
   ]
  },
  {
   "cell_type": "markdown",
   "metadata": {},
   "source": [
    "### Pulling in area from census data\n",
    "Should ensure accuracy and avoid issues like including bits of river/lake."
   ]
  },
  {
   "cell_type": "code",
   "execution_count": null,
   "metadata": {},
   "outputs": [],
   "source": [
    "ottawa_area_data = pop_data[pop_data['GEO_CODE (POR)'].isin(ottawa_census.CTUID)]"
   ]
  },
  {
   "cell_type": "code",
   "execution_count": null,
   "metadata": {},
   "outputs": [],
   "source": [
    "ottawa_area_data = ottawa_area_data.loc[ottawa_area_data[\"DIM: Profile of Census Tracts (2247)\"]=='Land area in square kilometres']"
   ]
  },
  {
   "cell_type": "code",
   "execution_count": null,
   "metadata": {},
   "outputs": [],
   "source": [
    "ottawa_area_data = ottawa_area_data[['GEO_CODE (POR)', 'Dim: Sex (3): Member ID: [1]: Total - Sex']]\n",
    "ottawa_area_data=ottawa_area_data.rename(columns={'Dim: Sex (3): Member ID: [1]: Total - Sex':'area_sq_km'})"
   ]
  },
  {
   "cell_type": "code",
   "execution_count": null,
   "metadata": {},
   "outputs": [],
   "source": [
    "ottawa_census_gpd = ottawa_census_gpd.merge(right=ottawa_area_data, how='left',\n",
    "                              left_on='CTUID', right_on='GEO_CODE (POR)')"
   ]
  },
  {
   "cell_type": "markdown",
   "metadata": {},
   "source": [
    "#### Exploring difference in areas"
   ]
  },
  {
   "cell_type": "code",
   "execution_count": null,
   "metadata": {},
   "outputs": [],
   "source": [
    "ottawa_census_gpd[['area', 'area_sq_km']].head()"
   ]
  },
  {
   "cell_type": "code",
   "execution_count": null,
   "metadata": {},
   "outputs": [],
   "source": [
    "ottawa_census_gpd['area'] = ottawa_census_gpd['area']*10000"
   ]
  },
  {
   "cell_type": "code",
   "execution_count": null,
   "metadata": {},
   "outputs": [],
   "source": [
    "ottawa_census_gpd['area_sq_km'] = pd.to_numeric(ottawa_census_gpd['area_sq_km'])\n",
    "ottawa_census_gpd['area_dif'] = ottawa_census_gpd['area'] - ottawa_census_gpd['area_sq_km']"
   ]
  },
  {
   "cell_type": "code",
   "execution_count": null,
   "metadata": {},
   "outputs": [],
   "source": [
    "# difference is always positive meaning that the value from geopandas is always larger.\n",
    "# makes sense give that the census area should be the same but minus water\n",
    "ottawa_census_gpd['area_dif'].describe()"
   ]
  },
  {
   "cell_type": "code",
   "execution_count": null,
   "metadata": {},
   "outputs": [],
   "source": [
    "# Surprisingly high variance. Thought the lowest would be < 0.05\n",
    "# Should follow up here more.\n",
    "ottawa_census_gpd['area_dif_perc'] = ottawa_census_gpd['area_dif'] / ottawa_census_gpd['area_sq_km']\n",
    "ottawa_census_gpd['area_dif_perc'].describe()"
   ]
  },
  {
   "cell_type": "code",
   "execution_count": null,
   "metadata": {},
   "outputs": [],
   "source": [
    "ottawa_census_gpd.area_dif_perc.plot(kind='hist', bins=15, figsize=(13,5))"
   ]
  },
  {
   "cell_type": "markdown",
   "metadata": {},
   "source": [
    "#### Mapping difference in areas"
   ]
  },
  {
   "cell_type": "code",
   "execution_count": null,
   "metadata": {},
   "outputs": [],
   "source": [
    "# what is this one crazy tract?\n",
    "# Answer: It's a tract along the river which is indeed mostly water\n",
    "test = ottawa_census_gpd.copy(deep=True)\n",
    "test[['geometry', 'area_dif_perc']].explore(column='area_dif_perc')"
   ]
  },
  {
   "cell_type": "code",
   "execution_count": null,
   "metadata": {},
   "outputs": [],
   "source": [
    "# let's highlight the close ones\n",
    "# Obervation: some really seem to have no water. Maybe it strips out parkland?\n",
    "# Tried looking at CTUID == 5050038 which is nicely rectangular here:\n",
    "# https://www.calcmaps.com/map-area/\n",
    "# gives an area of 0.433115 km^2. This is much closer to the area_sq_km (0.43 vs 0.498)\n",
    "# This implies there's something off with how I'm projecting this or with geopandas .area property\n",
    "test = ottawa_census_gpd.copy(deep=True)\n",
    "test.loc[ottawa_census_gpd.area_dif_perc<0.16, 'pop'] = -99999\n",
    "test[['geometry', 'pop', 'area_dif_perc', 'area', 'area_sq_km', 'CTUID']].explore(column='pop')"
   ]
  },
  {
   "cell_type": "markdown",
   "metadata": {},
   "source": [
    "### Determine which library is closest to a tract\n",
    "Will use the centroids for this I think"
   ]
  },
  {
   "cell_type": "code",
   "execution_count": null,
   "metadata": {},
   "outputs": [],
   "source": [
    "ottawa_census_display.centroid"
   ]
  },
  {
   "cell_type": "code",
   "execution_count": null,
   "metadata": {},
   "outputs": [],
   "source": []
  }
 ],
 "metadata": {
  "kernelspec": {
   "display_name": "Python 3",
   "language": "python",
   "name": "python3"
  },
  "language_info": {
   "codemirror_mode": {
    "name": "ipython",
    "version": 3
   },
   "file_extension": ".py",
   "mimetype": "text/x-python",
   "name": "python",
   "nbconvert_exporter": "python",
   "pygments_lexer": "ipython3",
   "version": "3.7.4"
  }
 },
 "nbformat": 4,
 "nbformat_minor": 2
}
