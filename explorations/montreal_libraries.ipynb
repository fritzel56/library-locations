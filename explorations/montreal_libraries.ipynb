{
 "cells": [
  {
   "cell_type": "markdown",
   "metadata": {},
   "source": [
    "Data is from [here](https://donnees.montreal.ca/ville-de-montreal/lieux-culturels)."
   ]
  },
  {
   "cell_type": "code",
   "execution_count": null,
   "metadata": {},
   "outputs": [],
   "source": [
    "import urllib\n",
    "import xmltodict\n",
    "import csv"
   ]
  },
  {
   "cell_type": "code",
   "execution_count": null,
   "metadata": {},
   "outputs": [],
   "source": [
    "url = 'https://data.montreal.ca/dataset/ceb2427e-aa50-4d06-b13a-d1b21e2702b9/resource/974ca8d4-ed85-4c77-a79f-9f765e4c1b32/download/lieuxculturels.csv'"
   ]
  },
  {
   "cell_type": "code",
   "execution_count": null,
   "metadata": {},
   "outputs": [],
   "source": [
    "montreal_data = urllib.request.urlopen(url).read()"
   ]
  },
  {
   "cell_type": "code",
   "execution_count": null,
   "metadata": {},
   "outputs": [],
   "source": [
    "import pandas as pd"
   ]
  },
  {
   "cell_type": "code",
   "execution_count": null,
   "metadata": {},
   "outputs": [],
   "source": [
    "data=pd.read_csv(url)"
   ]
  },
  {
   "cell_type": "code",
   "execution_count": null,
   "metadata": {},
   "outputs": [],
   "source": [
    "# data is 4 years old based on the metadata and seems to have an extra library vs total here:\n",
    "# https://montreal.ca/en/places?mtl_content.lieux.installation.code=BIBL&orderBy=dc_title\n",
    "len(data.loc[data['Noms du réseau'] == 'Bibliothèque'])"
   ]
  },
  {
   "cell_type": "markdown",
   "metadata": {},
   "source": [
    "Given the above, try to pull data from the map they have [here](https://montreal.ca/en/places?mtl_content.lieux.installation.code=BIBL&orderBy=dc_title&listType=map). Used inspect page and pulled out relevant text."
   ]
  },
  {
   "cell_type": "code",
   "execution_count": null,
   "metadata": {},
   "outputs": [],
   "source": [
    "test_all = '''\n",
    "\"features\":[{\"type\":\"Feature\",\"geometry\":{\"type\":\"Point\",\"coordinates\":[-73.642207147706,45.581980499306]},\"properties\":{\"description\":\"<div class=\\\"font-size-sm-interface\\\"><a href=\\\"/en/places/bibliotheque-belleville\\\" class=\\\"link-sm link-list-element\\\"><span class=\\\"link-label\\\">Bibliothèque Belleville</span></a><div>10400, avenue de Belleville<br/>Montréal, QC H1H 4Z7</div></div><div class=\\\"mt-1 d-flex\\\" data-reactroot=\\\"\\\"><a href=\\\"https://www.google.com/maps/search/?api=1&amp;query=10400,%20avenue%20de%20Belleville%20Montr%C3%A9al%20H1H%204Z7%20QC,%20CA\\\" class=\\\"link-sm is-external-link\\\" title=\\\"Get an itinerary\\\">Get an itinerary</a></div>\"}},{\"type\":\"Feature\",\"geometry\":{\"type\":\"Point\",\"coordinates\":[-73.630973995251,45.466297169481]},\"properties\":{\"description\":\"<div class=\\\"font-size-sm-interface\\\"><a href=\\\"/en/places/bibliotheque-benny\\\" class=\\\"link-sm link-list-element\\\"><span class=\\\"link-label\\\">Bibliothèque Benny</span></a><div>6400, avenue de Monkland<br/>Montréal, QC H4B 1H3</div></div><div class=\\\"mt-1 d-flex\\\" data-reactroot=\\\"\\\"><a href=\\\"https://www.google.com/maps/search/?api=1&amp;query=6400,%20avenue%20de%20Monkland%20Montr%C3%A9al%20H4B%201H3%20QC,%20CA\\\" class=\\\"link-sm is-external-link\\\" title=\\\"Get an itinerary\\\">Get an itinerary</a></div>\"}},{\"type\":\"Feature\",\"geometry\":{\"type\":\"Point\",\"coordinates\":[-73.662956,45.553373]},\"properties\":{\"description\":\"<div class=\\\"font-size-sm-interface\\\"><a href=\\\"/en/places/bibliotheque-dahuntsic\\\" class=\\\"link-sm link-list-element\\\"><span class=\\\"link-label\\\">Bibliothèque d&#x27;Ahuntsic</span></a><div>10300, rue Lajeunesse<br/>Montréal, QC H3L 2E5</div></div><div class=\\\"mt-1 d-flex\\\" data-reactroot=\\\"\\\"><a href=\\\"https://www.google.com/maps/search/?api=1&amp;query=10300,%20rue%20Lajeunesse%20Montr%C3%A9al%20H3L%202E5%20QC,%20CA\\\" class=\\\"link-sm is-external-link\\\" title=\\\"Get an itinerary\\\">Get an itinerary</a></div>\"}},{\"type\":\"Feature\",\"geometry\":{\"type\":\"Point\",\"coordinates\":[-73.713117,45.526951]},\"properties\":{\"description\":\"<div class=\\\"font-size-sm-interface\\\"><a href=\\\"/en/places/bibliotheque-de-cartierville\\\" class=\\\"link-sm link-list-element\\\"><span class=\\\"link-label\\\">Bibliothèque de Cartierville</span></a><div>5900, rue de Salaberry<br/>Montréal, QC H4J 1J8</div></div><div class=\\\"mt-1 d-flex\\\" data-reactroot=\\\"\\\"><a href=\\\"https://www.google.com/maps/search/?api=1&amp;query=5900,%20rue%20de%20Salaberry%20Montr%C3%A9al%20H4J%201J8%20QC,%20CA\\\" class=\\\"link-sm is-external-link\\\" title=\\\"Get an itinerary\\\">Get an itinerary</a></div>\"}},{\"type\":\"Feature\",\"geometry\":{\"type\":\"Point\",\"coordinates\":[-73.622245,45.4959]},\"properties\":{\"description\":\"<div class=\\\"font-size-sm-interface\\\"><a href=\\\"/en/places/bibliotheque-de-cote-des-neiges\\\" class=\\\"link-sm link-list-element\\\"><span class=\\\"link-label\\\">Bibliothèque de Côte-des-Neiges</span></a><div>5290, chemin de la Côte-des-Neiges<br/>Montréal, QC H3T 1Y2</div></div><div class=\\\"mt-1 d-flex\\\" data-reactroot=\\\"\\\"><a href=\\\"https://www.google.com/maps/search/?api=1&amp;query=5290,%20chemin%20de%20la%20C%C3%B4te-des-Neiges%20Montr%C3%A9al%20H3T%201Y2%20QC,%20CA\\\" class=\\\"link-sm is-external-link\\\" title=\\\"Get an itinerary\\\">Get an itinerary</a></div>\"}},{\"type\":\"Feature\",\"geometry\":{\"type\":\"Point\",\"coordinates\":[-73.882303,45.488615]},\"properties\":{\"description\":\"<div class=\\\"font-size-sm-interface\\\"><a href=\\\"/en/places/bibliotheque-de-lile-bizard\\\" class=\\\"link-sm link-list-element\\\"><span class=\\\"link-label\\\">Bibliothèque de L&#x27;Île-Bizard</span></a><div>500, montée de l&#x27;Église<br/>Montréal, QC H9C 1G9</div></div><div class=\\\"mt-1 d-flex\\\" data-reactroot=\\\"\\\"><a href=\\\"https://www.google.com/maps/search/?api=1&amp;query=500,%20mont%C3%A9e%20de%20l&#x27;%C3%89glise%20Montr%C3%A9al%20H9C%201G9%20QC,%20CA\\\" class=\\\"link-sm is-external-link\\\" title=\\\"Get an itinerary\\\">Get an itinerary</a></div>\"}},{\"type\":\"Feature\",\"geometry\":{\"type\":\"Point\",\"coordinates\":[-73.552312,45.455735]},\"properties\":{\"description\":\"<div class=\\\"font-size-sm-interface\\\"><a href=\\\"/en/places/bibliotheque-de-lile-des-soeurs\\\" class=\\\"link-sm link-list-element\\\"><span class=\\\"link-label\\\">Bibliothèque de L&#x27;Île-des-Sœurs</span></a><div>260, rue Elgar<br/>Montréal, QC H3E 1C9</div></div><div class=\\\"mt-1 d-flex\\\" data-reactroot=\\\"\\\"><a href=\\\"https://www.google.com/maps/search/?api=1&amp;query=260,%20rue%20Elgar%20Montr%C3%A9al%20H3E%201C9%20QC,%20CA\\\" class=\\\"link-sm is-external-link\\\" title=\\\"Get an itinerary\\\">Get an itinerary</a></div>\"}},{\"type\":\"Feature\",\"geometry\":{\"type\":\"Point\",\"coordinates\":[-73.62235,45.615812]},\"properties\":{\"description\":\"<div class=\\\"font-size-sm-interface\\\"><a href=\\\"/en/places/bibliotheque-de-la-maison-culturelle-et-communautaire\\\" class=\\\"link-sm link-list-element\\\"><span class=\\\"link-label\\\">Bibliothèque de la maison culturelle et communautaire</span></a><div>12002, boulevard Rolland<br/>Montréal, QC H1G 3W1</div></div><div class=\\\"mt-1 d-flex\\\" data-reactroot=\\\"\\\"><a href=\\\"https://www.google.com/maps/search/?api=1&amp;query=12002,%20boulevard%20Rolland%20Montr%C3%A9al%20H1G%203W1%20QC,%20CA\\\" class=\\\"link-sm is-external-link\\\" title=\\\"Get an itinerary\\\">Get an itinerary</a></div>\"}},{\"type\":\"Feature\",\"geometry\":{\"type\":\"Point\",\"coordinates\":[-73.598139,45.54742]},\"properties\":{\"description\":\"<div class=\\\"font-size-sm-interface\\\"><a href=\\\"/en/places/bibliotheque-de-la-petite-patrie\\\" class=\\\"link-sm link-list-element\\\"><span class=\\\"link-label\\\">Bibliothèque de La Petite-Patrie</span></a><div>6707, avenue De Lorimier<br/>Montréal, QC H2G 2P8</div></div><div class=\\\"mt-1 d-flex\\\" data-reactroot=\\\"\\\"><a href=\\\"https://www.google.com/maps/search/?api=1&amp;query=6707,%20avenue%20De%20Lorimier%20Montr%C3%A9al%20H2G%202P8%20QC,%20CA\\\" class=\\\"link-sm is-external-link\\\" title=\\\"Get an itinerary\\\">Get an itinerary</a></div>\"}},{\"type\":\"Feature\",\"geometry\":{\"type\":\"Point\",\"coordinates\":[-73.61437,45.475571]},\"properties\":{\"description\":\"<div class=\\\"font-size-sm-interface\\\"><a href=\\\"/en/places/bibliotheque-de-notre-dame-de-grace\\\" class=\\\"link-sm link-list-element\\\"><span class=\\\"link-label\\\">Bibliothèque de Notre-Dame-de-Grâce</span></a><div>3755, rue Botrel<br/>Montréal, QC H4A 3G8</div></div><div class=\\\"mt-1 d-flex\\\" data-reactroot=\\\"\\\"><a href=\\\"https://www.google.com/maps/search/?api=1&amp;query=3755,%20rue%20Botrel%20Montr%C3%A9al%20H4A%203G8%20QC,%20CA\\\" class=\\\"link-sm is-external-link\\\" title=\\\"Get an itinerary\\\">Get an itinerary</a></div>\"}},{\"type\":\"Feature\",\"geometry\":{\"type\":\"Point\",\"coordinates\":[-73.628862352985,45.531362873243]},\"properties\":{\"description\":\"<div class=\\\"font-size-sm-interface\\\"><a href=\\\"/en/places/bibliotheque-de-parc-extension\\\" class=\\\"link-sm link-list-element\\\"><span class=\\\"link-label\\\">Bibliothèque de Parc-Extension</span></a><div>421, rue Saint-Roch<br/>Montréal, QC H3N 1K2</div></div><div class=\\\"mt-1 d-flex\\\" data-reactroot=\\\"\\\"><a href=\\\"https://www.google.com/maps/search/?api=1&amp;query=421,%20rue%20Saint-Roch%20Montr%C3%A9al%20H3N%201K2%20QC,%20CA\\\" class=\\\"link-sm is-external-link\\\" title=\\\"Get an itinerary\\\">Get an itinerary</a></div>\"}},{\"type\":\"Feature\",\"geometry\":{\"type\":\"Point\",\"coordinates\":[-73.494899,45.667876]},\"properties\":{\"description\":\"<div class=\\\"font-size-sm-interface\\\"><a href=\\\"/en/places/bibliotheque-de-pointe-aux-trembles\\\" class=\\\"link-sm link-list-element\\\"><span class=\\\"link-label\\\">Bibliothèque de Pointe-aux-Trembles</span></a><div>14001, rue Notre-Dame Est<br/>Montréal, QC H1A 1T9</div></div><div class=\\\"mt-1 d-flex\\\" data-reactroot=\\\"\\\"><a href=\\\"https://www.google.com/maps/search/?api=1&amp;query=14001,%20rue%20Notre-Dame%20Est%20Montr%C3%A9al%20H1A%201T9%20QC,%20CA\\\" class=\\\"link-sm is-external-link\\\" title=\\\"Get an itinerary\\\">Get an itinerary</a></div>\"}},{\"type\":\"Feature\",\"geometry\":{\"type\":\"Point\",\"coordinates\":[-73.578922,45.650106]},\"properties\":{\"description\":\"<div class=\\\"font-size-sm-interface\\\"><a href=\\\"/en/places/bibliotheque-de-riviere-des-prairies\\\" class=\\\"link-sm link-list-element\\\"><span class=\\\"link-label\\\">Bibliothèque de Rivière-des-Prairies</span></a><div>9001, boulevard Perras<br/>Montréal, QC H1E 3J7</div></div><div class=\\\"mt-1 d-flex\\\" data-reactroot=\\\"\\\"><a href=\\\"https://www.google.com/maps/search/?api=1&amp;query=9001,%20boulevard%20Perras%20Montr%C3%A9al%20H1E%203J7%20QC,%20CA\\\" class=\\\"link-sm is-external-link\\\" title=\\\"Get an itinerary\\\">Get an itinerary</a></div>\"}},{\"type\":\"Feature\",\"geometry\":{\"type\":\"Point\",\"coordinates\":[-73.582255,45.551841]},\"properties\":{\"description\":\"<div class=\\\"font-size-sm-interface\\\"><a href=\\\"/en/places/bibliotheque-de-rosemont\\\" class=\\\"link-sm link-list-element\\\"><span class=\\\"link-label\\\">Bibliothèque de Rosemont</span></a><div>3131, boul. Rosemont<br/>Montréal, QC H1Y 1M4</div></div><div class=\\\"mt-1 d-flex\\\" data-reactroot=\\\"\\\"><a href=\\\"https://www.google.com/maps/search/?api=1&amp;query=3131,%20boul.%20Rosemont%20Montr%C3%A9al%20H1Y1M4%20QC,%20CA\\\" class=\\\"link-sm is-external-link\\\" title=\\\"Get an itinerary\\\">Get an itinerary</a></div>\"}},{\"type\":\"Feature\",\"geometry\":{\"type\":\"Point\",\"coordinates\":[-73.598376,45.58577]},\"properties\":{\"description\":\"<div class=\\\"font-size-sm-interface\\\"><a href=\\\"/en/places/bibliotheque-de-saint-leonard\\\" class=\\\"link-sm link-list-element\\\"><span class=\\\"link-label\\\">Bibliothèque de Saint-Léonard</span></a><div>8420, boulevard Lacordaire<br/>Montréal, QC H1R 3G5</div></div><div class=\\\"mt-1 d-flex\\\" data-reactroot=\\\"\\\"><a href=\\\"https://www.google.com/maps/search/?api=1&amp;query=8420,%20boulevard%20Lacordaire%20Montr%C3%A9al%20H1R%203G5%20QC,%20CA\\\" class=\\\"link-sm is-external-link\\\" title=\\\"Get an itinerary\\\">Get an itinerary</a></div>\"}},{\"type\":\"Feature\",\"geometry\":{\"type\":\"Point\",\"coordinates\":[-73.601328,45.562168]},\"properties\":{\"description\":\"<div class=\\\"font-size-sm-interface\\\"><a href=\\\"/en/places/bibliotheque-de-saint-michel\\\" class=\\\"link-sm link-list-element\\\"><span class=\\\"link-label\\\">Bibliothèque de Saint-Michel</span></a><div>7601, rue François-Perrault<br/>Montréal, QC H2A 3L6</div></div><div class=\\\"mt-1 d-flex\\\" data-reactroot=\\\"\\\"><a href=\\\"https://www.google.com/maps/search/?api=1&amp;query=7601,%20rue%20Fran%C3%A7ois-Perrault%20Montr%C3%A9al%20H2A%203L6%20QC,%20CA\\\" class=\\\"link-sm is-external-link\\\" title=\\\"Get an itinerary\\\">Get an itinerary</a></div>\"}},{\"type\":\"Feature\",\"geometry\":{\"type\":\"Point\",\"coordinates\":[-73.651947,45.445958]},\"properties\":{\"description\":\"<div class=\\\"font-size-sm-interface\\\"><a href=\\\"/en/places/bibliotheque-de-saint-pierre\\\" class=\\\"link-sm link-list-element\\\"><span class=\\\"link-label\\\">Bibliothèque de Saint-Pierre</span></a><div>183, rue des Érables<br/>Montréal, QC H8R 1B1</div></div><div class=\\\"mt-1 d-flex\\\" data-reactroot=\\\"\\\"><a href=\\\"https://www.google.com/maps/search/?api=1&amp;query=183,%20rue%20des%20%C3%89rables%20Montr%C3%A9al%20H8R%201B1%20QC,%20CA\\\" class=\\\"link-sm is-external-link\\\" title=\\\"Get an itinerary\\\">Get an itinerary</a></div>\"}},{\"type\":\"Feature\",\"geometry\":{\"type\":\"Point\",\"coordinates\":[-73.703768,45.534515]},\"properties\":{\"description\":\"<div class=\\\"font-size-sm-interface\\\"><a href=\\\"/en/places/bibliotheque-de-salaberry\\\" class=\\\"link-sm link-list-element\\\"><span class=\\\"link-label\\\">Bibliothèque de Salaberry</span></a><div>4170, rue De Salaberry<br/>Montréal, QC H4J 1H1</div></div><div class=\\\"mt-1 d-flex\\\" data-reactroot=\\\"\\\"><a href=\\\"https://www.google.com/maps/search/?api=1&amp;query=4170,%20rue%20De%20Salaberry%20Montr%C3%A9al%20H4J%201H1%20QC,%20CA\\\" class=\\\"link-sm is-external-link\\\" title=\\\"Get an itinerary\\\">Get an itinerary</a></div>\"}},{\"type\":\"Feature\",\"geometry\":{\"type\":\"Point\",\"coordinates\":[-73.704747,45.504489]},\"properties\":{\"description\":\"<div class=\\\"font-size-sm-interface\\\"><a href=\\\"/en/places/bibliotheque-du-boise\\\" class=\\\"link-sm link-list-element\\\"><span class=\\\"link-label\\\">Bibliothèque du Boisé</span></a><div>2727, boulevard Thimens<br/>Montréal, QC H4R 1T4</div></div><div class=\\\"mt-1 d-flex\\\" data-reactroot=\\\"\\\"><a href=\\\"https://www.google.com/maps/search/?api=1&amp;query=2727,%20boulevard%20Thimens%20Montr%C3%A9al%20H4R%201T4%20QC,%20CA\\\" class=\\\"link-sm is-external-link\\\" title=\\\"Get an itinerary\\\">Get an itinerary</a></div>\"}},{\"type\":\"Feature\",\"geometry\":{\"type\":\"Point\",\"coordinates\":[-73.575707,45.601156]},\"properties\":{\"description\":\"<div class=\\\"font-size-sm-interface\\\"><a href=\\\"/en/places/bibliotheque-du-haut-anjou\\\" class=\\\"link-sm link-list-element\\\"><span class=\\\"link-label\\\">Bibliothèque du Haut-Anjou</span></a><div>7070, rue Jarry Est<br/>Montréal, QC H1J 1G4</div></div><div class=\\\"mt-1 d-flex\\\" data-reactroot=\\\"\\\"><a href=\\\"https://www.google.com/maps/search/?api=1&amp;query=7070,%20rue%20Jarry%20Est%20Montr%C3%A9al%20H1J%201G4%20QC,%20CA\\\" class=\\\"link-sm is-external-link\\\" title=\\\"Get an itinerary\\\">Get an itinerary</a></div>\"}},{\"type\":\"Feature\",\"geometry\":{\"type\":\"Point\",\"coordinates\":[-73.582684,45.524952]},\"properties\":{\"description\":\"<div class=\\\"font-size-sm-interface\\\"><a href=\\\"/en/places/bibliotheque-du-plateau-mont-royal\\\" class=\\\"link-sm link-list-element\\\"><span class=\\\"link-label\\\">Bibliothèque du Plateau-Mont-Royal</span></a><div>465, avenue du Mont-Royal Est<br/>Montréal, QC H2J 1W3</div></div><div class=\\\"mt-1 d-flex\\\" data-reactroot=\\\"\\\"><a href=\\\"https://www.google.com/maps/search/?api=1&amp;query=465,%20avenue%20du%20Mont-Royal%20Est%20Montr%C3%A9al%20H2J%201W3%20QC,%20CA\\\" class=\\\"link-sm is-external-link\\\" title=\\\"Get an itinerary\\\">Get an itinerary</a></div>\"}},{\"type\":\"Feature\",\"geometry\":{\"type\":\"Point\",\"coordinates\":[-73.6764,45.512818]},\"properties\":{\"description\":\"<div class=\\\"font-size-sm-interface\\\"><a href=\\\"/en/places/bibliotheque-du-vieux-saint-laurent\\\" class=\\\"link-sm link-list-element\\\"><span class=\\\"link-label\\\">Bibliothèque du Vieux-Saint-Laurent</span></a><div>1380, rue de l&#x27;Église<br/>Montréal, QC H4L 2H2</div></div><div class=\\\"mt-1 d-flex\\\" data-reactroot=\\\"\\\"><a href=\\\"https://www.google.com/maps/search/?api=1&amp;query=1380,%20rue%20de%20l&#x27;%C3%89glise%20Montr%C3%A9al%20H4L%202H2%20QC,%20CA\\\" class=\\\"link-sm is-external-link\\\" title=\\\"Get an itinerary\\\">Get an itinerary</a></div>\"}},{\"type\":\"Feature\",\"geometry\":{\"type\":\"Point\",\"coordinates\":[-73.551399,45.532827]},\"properties\":{\"description\":\"<div class=\\\"font-size-sm-interface\\\"><a href=\\\"/en/places/bibliotheque-frontenac\\\" class=\\\"link-sm link-list-element\\\"><span class=\\\"link-label\\\">Bibliothèque Frontenac</span></a><div>2550, rue Ontario Est<br/>Montréal, QC H2K 1W7</div></div><div class=\\\"mt-1 d-flex\\\" data-reactroot=\\\"\\\"><a href=\\\"https://www.google.com/maps/search/?api=1&amp;query=2550,%20rue%20Ontario%20Est%20Montr%C3%A9al%20H2K%201W7%20QC,%20CA\\\" class=\\\"link-sm is-external-link\\\" title=\\\"Get an itinerary\\\">Get an itinerary</a></div>\"}},{\"type\":\"Feature\",\"geometry\":{\"type\":\"Point\",\"coordinates\":[-73.625023,45.604607]},\"properties\":{\"description\":\"<div class=\\\"font-size-sm-interface\\\"><a href=\\\"/en/places/bibliotheque-henri-bourassa\\\" class=\\\"link-sm link-list-element\\\"><span class=\\\"link-label\\\">Bibliothèque Henri-Bourassa</span></a><div>5400, boulevard Henri-Bourassa Est<br/>Montréal, QC H1G 2S9</div></div><div class=\\\"mt-1 d-flex\\\" data-reactroot=\\\"\\\"><a href=\\\"https://www.google.com/maps/search/?api=1&amp;query=5400,%20boulevard%20Henri-Bourassa%20Est%20Montr%C3%A9al%20H1G%202S9%20QC,%20CA\\\" class=\\\"link-sm is-external-link\\\" title=\\\"Get an itinerary\\\">Get an itinerary</a></div>\"}},{\"type\":\"Feature\",\"geometry\":{\"type\":\"Point\",\"coordinates\":[-73.544566,45.542153]},\"properties\":{\"description\":\"<div class=\\\"font-size-sm-interface\\\"><a href=\\\"/en/places/bibliotheque-hochelaga\\\" class=\\\"link-sm link-list-element\\\"><span class=\\\"link-label\\\">Bibliothèque Hochelaga</span></a><div>1870, rue Davidson<br/>Montréal, QC H1W 2Y6</div></div><div class=\\\"mt-1 d-flex\\\" data-reactroot=\\\"\\\"><a href=\\\"https://www.google.com/maps/search/?api=1&amp;query=1870,%20rue%20Davidson%20Montr%C3%A9al%20H1W%202Y6%20QC,%20CA\\\" class=\\\"link-sm is-external-link\\\" title=\\\"Get an itinerary\\\">Get an itinerary</a></div>\"}},{\"type\":\"Feature\",\"geometry\":{\"type\":\"Point\",\"coordinates\":[-73.636934,45.503324]},\"properties\":{\"description\":\"<div class=\\\"font-size-sm-interface\\\"><a href=\\\"/en/places/bibliotheque-interculturelle\\\" class=\\\"link-sm link-list-element\\\"><span class=\\\"link-label\\\">Bibliothèque interculturelle</span></a><div>6767, chemin de la Côte-des-Neiges<br/>Montréal, QC H3S 2T6</div></div><div class=\\\"mt-1 d-flex\\\" data-reactroot=\\\"\\\"><a href=\\\"https://www.google.com/maps/search/?api=1&amp;query=6767,%20chemin%20de%20la%20C%C3%B4te-des-Neiges%20Montr%C3%A9al%20H3S%202T6%20QC,%20CA\\\" class=\\\"link-sm is-external-link\\\" title=\\\"Get an itinerary\\\">Get an itinerary</a></div>\"}},{\"type\":\"Feature\",\"geometry\":{\"type\":\"Point\",\"coordinates\":[-73.579007,45.448625]},\"properties\":{\"description\":\"<div class=\\\"font-size-sm-interface\\\"><a href=\\\"/en/places/bibliotheque-jacqueline-de-repentigny\\\" class=\\\"link-sm link-list-element\\\"><span class=\\\"link-label\\\">Bibliothèque Jacqueline-De Repentigny</span></a><div>5955, avenue Bannantyne<br/>Montréal, QC H4H 1H6</div></div><div class=\\\"mt-1 d-flex\\\" data-reactroot=\\\"\\\"><a href=\\\"https://www.google.com/maps/search/?api=1&amp;query=5955,%20avenue%20Bannantyne%20Montr%C3%A9al%20H4H%201H6%20QC,%20CA\\\" class=\\\"link-sm is-external-link\\\" title=\\\"Get an itinerary\\\">Get an itinerary</a></div>\"}},{\"type\":\"Feature\",\"geometry\":{\"type\":\"Point\",\"coordinates\":[-73.558411,45.602902]},\"properties\":{\"description\":\"<div class=\\\"font-size-sm-interface\\\"><a href=\\\"/en/places/bibliotheque-jean-corbeil\\\" class=\\\"link-sm link-list-element\\\"><span class=\\\"link-label\\\">Bibliothèque Jean-Corbeil</span></a><div>7500, avenue Goncourt<br/>Montréal, QC H1K 3X9</div></div><div class=\\\"mt-1 d-flex\\\" data-reactroot=\\\"\\\"><a href=\\\"https://www.google.com/maps/search/?api=1&amp;query=7500,%20avenue%20Goncourt%20Montr%C3%A9al%20H1K%203X9%20QC,%20CA\\\" class=\\\"link-sm is-external-link\\\" title=\\\"Get an itinerary\\\">Get an itinerary</a></div>\"}},{\"type\":\"Feature\",\"geometry\":{\"type\":\"Point\",\"coordinates\":[-73.634537177903,45.431289632412]},\"properties\":{\"description\":\"<div class=\\\"font-size-sm-interface\\\"><a href=\\\"/en/places/bibliotheque-loctogone\\\" class=\\\"link-sm link-list-element\\\"><span class=\\\"link-label\\\">Bibliothèque L&#x27;Octogone</span></a><div>2101, avenue Dollard<br/>Montréal, QC H8N 2T9</div></div><div class=\\\"mt-1 d-flex\\\" data-reactroot=\\\"\\\"><a href=\\\"https://www.google.com/maps/search/?api=1&amp;query=2101,%20avenue%20Dollard%20Montr%C3%A9al%20H8N%202T9%20QC,%20CA\\\" class=\\\"link-sm is-external-link\\\" title=\\\"Get an itinerary\\\">Get an itinerary</a></div>\"}},{\"type\":\"Feature\",\"geometry\":{\"type\":\"Point\",\"coordinates\":[-73.544271,45.581644]},\"properties\":{\"description\":\"<div class=\\\"font-size-sm-interface\\\"><a href=\\\"/en/places/bibliotheque-langelier\\\" class=\\\"link-sm link-list-element\\\"><span class=\\\"link-label\\\">Bibliothèque Langelier</span></a><div>6473, rue Sherbrooke Est<br/>Montréal, QC H1N 1C5</div></div><div class=\\\"mt-1 d-flex\\\" data-reactroot=\\\"\\\"><a href=\\\"https://www.google.com/maps/search/?api=1&amp;query=6473,%20rue%20Sherbrooke%20Est%20Montr%C3%A9al%20H1N%201C5%20QC,%20CA\\\" class=\\\"link-sm is-external-link\\\" title=\\\"Get an itinerary\\\">Get an itinerary</a></div>\"}},{\"type\":\"Feature\",\"geometry\":{\"type\":\"Point\",\"coordinates\":[-73.613517,45.543689]},\"properties\":{\"description\":\"<div class=\\\"font-size-sm-interface\\\"><a href=\\\"/en/places/bibliotheque-le-prevost\\\" class=\\\"link-sm link-list-element\\\"><span class=\\\"link-label\\\">Bibliothèque Le Prévost</span></a><div>7355, avenue Christophe-Colomb<br/>Montréal, QC H2R 2S5</div></div><div class=\\\"mt-1 d-flex\\\" data-reactroot=\\\"\\\"><a href=\\\"https://www.google.com/maps/search/?api=1&amp;query=7355,%20avenue%20Christophe-Colomb%20Montr%C3%A9al%20H2R%202S5%20QC,%20CA\\\" class=\\\"link-sm is-external-link\\\" title=\\\"Get an itinerary\\\">Get an itinerary</a></div>\"}},{\"type\":\"Feature\",\"geometry\":{\"type\":\"Point\",\"coordinates\":[-73.540658,45.550632]},\"properties\":{\"description\":\"<div class=\\\"font-size-sm-interface\\\"><a href=\\\"/en/places/bibliotheque-maisonneuve\\\" class=\\\"link-sm link-list-element\\\"><span class=\\\"link-label\\\">Bibliothèque Maisonneuve</span></a><div>4115, rue Ontario Est, 4e étage<br/>Montréal, QC H1V 1J9</div></div><div class=\\\"mt-1 d-flex\\\" data-reactroot=\\\"\\\"><a href=\\\"https://www.google.com/maps/search/?api=1&amp;query=4115,%20rue%20Ontario%20Est,%204e%20%C3%A9tage%20Montr%C3%A9al%20H1V%201J9%20QC,%20CA\\\" class=\\\"link-sm is-external-link\\\" title=\\\"Get an itinerary\\\">Get an itinerary</a></div>\"}},{\"type\":\"Feature\",\"geometry\":{\"type\":\"Point\",\"coordinates\":[-73.595735,45.531723]},\"properties\":{\"description\":\"<div class=\\\"font-size-sm-interface\\\"><a href=\\\"/en/places/bibliotheque-marc-favreau\\\" class=\\\"link-sm link-list-element\\\"><span class=\\\"link-label\\\">Bibliothèque Marc-Favreau</span></a><div>500, boulevard Rosemont<br/>Montréal, QC H2S 0C4</div></div><div class=\\\"mt-1 d-flex\\\" data-reactroot=\\\"\\\"><a href=\\\"https://www.google.com/maps/search/?api=1&amp;query=500,%20boulevard%20Rosemont%20Montr%C3%A9al%20H2S%200C4%20QC,%20CA\\\" class=\\\"link-sm is-external-link\\\" title=\\\"Get an itinerary\\\">Get an itinerary</a></div>\"}},{\"type\":\"Feature\",\"geometry\":{\"type\":\"Point\",\"coordinates\":[-73.595415893255,45.457704967069]},\"properties\":{\"description\":\"<div class=\\\"font-size-sm-interface\\\"><a href=\\\"/en/places/bibliotheque-marie-uguay\\\" class=\\\"link-sm link-list-element\\\"><span class=\\\"link-label\\\">Bibliothèque Marie-Uguay</span></a><div>6052, boulevard Monk<br/>Montréal, QC H4E 3H6</div></div><div class=\\\"mt-1 d-flex\\\" data-reactroot=\\\"\\\"><a href=\\\"https://www.google.com/maps/search/?api=1&amp;query=6052,%20boulevard%20Monk%20Montr%C3%A9al%20H4E%203H6%20QC,%20CA\\\" class=\\\"link-sm is-external-link\\\" title=\\\"Get an itinerary\\\">Get an itinerary</a></div>\"}},{\"type\":\"Feature\",\"geometry\":{\"type\":\"Point\",\"coordinates\":[-73.523843,45.595475]},\"properties\":{\"description\":\"<div class=\\\"font-size-sm-interface\\\"><a href=\\\"/en/places/bibliotheque-mercier\\\" class=\\\"link-sm link-list-element\\\"><span class=\\\"link-label\\\">Bibliothèque Mercier</span></a><div>8105, rue Hochelaga<br/>Montréal, QC H1L 2K9</div></div><div class=\\\"mt-1 d-flex\\\" data-reactroot=\\\"\\\"><a href=\\\"https://www.google.com/maps/search/?api=1&amp;query=8105,%20rue%20Hochelaga%20Montr%C3%A9al%20H1L%202K9%20QC,%20CA\\\" class=\\\"link-sm is-external-link\\\" title=\\\"Get an itinerary\\\">Get an itinerary</a></div>\"}},{\"type\":\"Feature\",\"geometry\":{\"type\":\"Point\",\"coordinates\":[-73.601661,45.521642]},\"properties\":{\"description\":\"<div class=\\\"font-size-sm-interface\\\"><a href=\\\"/en/places/bibliotheque-mordecai-richler\\\" class=\\\"link-sm link-list-element\\\"><span class=\\\"link-label\\\">Bibliothèque Mordecai-Richler</span></a><div>5434, avenue du Parc<br/>Montréal, QC H2V 4G7</div></div><div class=\\\"mt-1 d-flex\\\" data-reactroot=\\\"\\\"><a href=\\\"https://www.google.com/maps/search/?api=1&amp;query=5434,%20avenue%20du%20Parc%20Montr%C3%A9al%20H2V%204G7%20QC,%20CA\\\" class=\\\"link-sm is-external-link\\\" title=\\\"Get an itinerary\\\">Get an itinerary</a></div>\"}},{\"type\":\"Feature\",\"geometry\":{\"type\":\"Point\",\"coordinates\":[-73.562746,45.523001]},\"properties\":{\"description\":\"<div class=\\\"font-size-sm-interface\\\"><a href=\\\"/en/places/bibliotheque-pere-ambroise\\\" class=\\\"link-sm link-list-element\\\"><span class=\\\"link-label\\\">Bibliothèque Père-Ambroise</span></a><div>2093, rue de la Visitation<br/>Montréal, QC H2L 3C9</div></div><div class=\\\"mt-1 d-flex\\\" data-reactroot=\\\"\\\"><a href=\\\"https://www.google.com/maps/search/?api=1&amp;query=2093,%20rue%20de%20la%20Visitation%20Montr%C3%A9al%20H2L%203C9%20QC,%20CA\\\" class=\\\"link-sm is-external-link\\\" title=\\\"Get an itinerary\\\">Get an itinerary</a></div>\"}},{\"type\":\"Feature\",\"geometry\":{\"type\":\"Point\",\"coordinates\":[-73.575096,45.48358]},\"properties\":{\"description\":\"<div class=\\\"font-size-sm-interface\\\"><a href=\\\"/en/places/bibliotheque-rejean-ducharme\\\" class=\\\"link-sm link-list-element\\\"><span class=\\\"link-label\\\">Bibliothèque Réjean-Ducharme</span></a><div>2450, rue Workman<br/>Montréal, QC H3J 1L8</div></div><div class=\\\"mt-1 d-flex\\\" data-reactroot=\\\"\\\"><a href=\\\"https://www.google.com/maps/search/?api=1&amp;query=2450,%20rue%20Workman%20Montr%C3%A9al%20H3J%201L8%20QC,%20CA\\\" class=\\\"link-sm is-external-link\\\" title=\\\"Get an itinerary\\\">Get an itinerary</a></div>\"}},{\"type\":\"Feature\",\"geometry\":{\"type\":\"Point\",\"coordinates\":[-73.608452,45.517934]},\"properties\":{\"description\":\"<div class=\\\"font-size-sm-interface\\\"><a href=\\\"/en/places/bibliotheque-robert-bourassa\\\" class=\\\"link-sm link-list-element\\\"><span class=\\\"link-label\\\">Bibliothèque Robert-Bourassa</span></a><div>41, avenue Saint-Just<br/>Montréal, QC H2V 4T7</div></div><div class=\\\"mt-1 d-flex\\\" data-reactroot=\\\"\\\"><a href=\\\"https://www.google.com/maps/search/?api=1&amp;query=41,%20avenue%20Saint-Just%20Montr%C3%A9al%20H2V%204T7%20QC,%20CA\\\" class=\\\"link-sm is-external-link\\\" title=\\\"Get an itinerary\\\">Get an itinerary</a></div>\"}},{\"type\":\"Feature\",\"geometry\":{\"type\":\"Point\",\"coordinates\":[-73.564457,45.478891]},\"properties\":{\"description\":\"<div class=\\\"font-size-sm-interface\\\"><a href=\\\"/en/places/bibliotheque-saint-charles\\\" class=\\\"link-sm link-list-element\\\"><span class=\\\"link-label\\\">Bibliothèque Saint-Charles</span></a><div>1050, rue d&#x27;Hibernia<br/>Montréal, QC H3K 2V2</div></div><div class=\\\"mt-1 d-flex\\\" data-reactroot=\\\"\\\"><a href=\\\"https://www.google.com/maps/search/?api=1&amp;query=1050,%20rue%20d&#x27;Hibernia%20Montr%C3%A9al%20H3K%202V2%20QC,%20CA\\\" class=\\\"link-sm is-external-link\\\" title=\\\"Get an itinerary\\\">Get an itinerary</a></div>\"}},{\"type\":\"Feature\",\"geometry\":{\"type\":\"Point\",\"coordinates\":[-73.589737,45.472526]},\"properties\":{\"description\":\"<div class=\\\"font-size-sm-interface\\\"><a href=\\\"/en/places/bibliotheque-saint-henri\\\" class=\\\"link-sm link-list-element\\\"><span class=\\\"link-label\\\">Bibliothèque Saint-Henri</span></a><div>4707, rue Notre-Dame Ouest<br/>Montréal, QC H4C 1S9</div></div><div class=\\\"mt-1 d-flex\\\" data-reactroot=\\\"\\\"><a href=\\\"https://www.google.com/maps/search/?api=1&amp;query=4707,%20rue%20Notre-Dame%20Ouest%20Montr%C3%A9al%20H4C%201S9%20QC,%20CA\\\" class=\\\"link-sm is-external-link\\\" title=\\\"Get an itinerary\\\">Get an itinerary</a></div>\"}},{\"type\":\"Feature\",\"geometry\":{\"type\":\"Point\",\"coordinates\":[-73.691033,45.440449]},\"properties\":{\"description\":\"<div class=\\\"font-size-sm-interface\\\"><a href=\\\"/en/places/bibliotheque-saul-bellow\\\" class=\\\"link-sm link-list-element\\\"><span class=\\\"link-label\\\">Bibliothèque Saul-Bellow</span></a><div>3100, rue Saint-Antoine<br/>Montréal, QC H8S 4B8</div></div><div class=\\\"mt-1 d-flex\\\" data-reactroot=\\\"\\\"><a href=\\\"https://www.google.com/maps/search/?api=1&amp;query=3100,%20rue%20Saint-Antoine%20Montr%C3%A9al%20H8S%204B8%20QC,%20CA\\\" class=\\\"link-sm is-external-link\\\" title=\\\"Get an itinerary\\\">Get an itinerary</a></div>\"}},{\"type\":\"Feature\",\"geometry\":{\"type\":\"Point\",\"coordinates\":[-73.631285,45.596396]},\"properties\":{\"description\":\"<div class=\\\"font-size-sm-interface\\\"><a href=\\\"/en/places/bibliotheque-yves-ryan\\\" class=\\\"link-sm link-list-element\\\"><span class=\\\"link-label\\\">Bibliothèque Yves-Ryan</span></a><div>4740, rue de Charleroi<br/>Montréal, QC H1H 1V2</div></div><div class=\\\"mt-1 d-flex\\\" data-reactroot=\\\"\\\"><a href=\\\"https://www.google.com/maps/search/?api=1&amp;query=4740,%20rue%20de%20Charleroi%20Montr%C3%A9al%20H1H%201V2%20QC,%20CA\\\" class=\\\"link-sm is-external-link\\\" title=\\\"Get an itinerary\\\">Get an itinerary</a></div>\"}},{\"type\":\"Feature\",\"geometry\":{\"type\":\"Point\",\"coordinates\":[-73.847222328186,45.496195210508]},\"properties\":{\"description\":\"<div class=\\\"font-size-sm-interface\\\"><a href=\\\"/en/places/pierrefonds-library\\\" class=\\\"link-sm link-list-element\\\"><span class=\\\"link-label\\\">Pierrefonds library</span></a><div>13555, boulevard de Pierrefonds<br/>Montréal, QC H9A 1A6</div></div><div class=\\\"mt-1 d-flex\\\" data-reactroot=\\\"\\\"><a href=\\\"https://www.google.com/maps/search/?api=1&amp;query=13555,%20boulevard%20de%20Pierrefonds%20Montr%C3%A9al%20H9A%201A6%20QC,%20CA\\\" class=\\\"link-sm is-external-link\\\" title=\\\"Get an itinerary\\\">Get an itinerary</a></div>\"}},{\"type\":\"Feature\",\"geometry\":{\"type\":\"Point\",\"coordinates\":[-73.814617,45.50267]},\"properties\":{\"description\":\"<div class=\\\"font-size-sm-interface\\\"><a href=\\\"/en/places/william-g-boll-library\\\" class=\\\"link-sm link-list-element\\\"><span class=\\\"link-label\\\">William-G.-Boll Library</span></a><div>110, rue Cartier<br/>Montréal, QC H8Y 1G8</div></div><div class=\\\"mt-1 d-flex\\\" data-reactroot=\\\"\\\"><a href=\\\"https://www.google.com/maps/search/?api=1&amp;query=110,%20rue%20Cartier%20Montr%C3%A9al%20H8Y%201G8%20QC,%20CA\\\" class=\\\"link-sm is-external-link\\\" title=\\\"Get an itinerary\\\">Get an itinerary</a></div>\"}}]}\n",
    "'''"
   ]
  },
  {
   "cell_type": "code",
   "execution_count": null,
   "metadata": {},
   "outputs": [],
   "source": [
    "\"features\":[{\"type\":\"Feature\",\"geometry\":{\"type\":\"Point\",\"coordinates\":[-73.642207147706,45.581980499306]},\"properties\":{\"description\":\"<div class=\\\"font-size-sm-interface\\\"><a href=\\\"/en/places/bibliotheque-belleville\\\" class=\\\"link-sm link-list-element\\\"><span class=\\\"link-label\\\">Bibliothèque Belleville</span></a><div>10400, avenue de Belleville<br/>Montréal, QC H1H 4Z7</div></div><div class=\\\"mt-1 d-flex\\\" data-reactroot=\\\"\\\"><a href=\\\"https://www.google.com/maps/search/?api=1&amp;query=10400,%20avenue%20de%20Belleville%20Montr%C3%A9al%20H1H%204Z7%20QC,%20CA\\\" class=\\\"link-sm is-external-link\\\" title=\\\"Get an itinerary\\\">Get an itinerary</a></div>\"}}]"
   ]
  },
  {
   "cell_type": "code",
   "execution_count": null,
   "metadata": {},
   "outputs": [],
   "source": [
    "test='''\n",
    "[{\"type\":\"Feature\",\"geometry\":{\"type\":\"Point\",\"coordinates\":[-73.642207147706,45.581980499306]},\"properties\":{\"description\":\"<div class=\\\"font-size-sm-interface\\\"><a href=\\\"/en/places/bibliotheque-belleville\\\" class=\\\"link-sm link-list-element\\\"><span class=\\\"link-label\\\">Bibliothèque Belleville</span></a><div>10400, avenue de Belleville<br/>Montréal, QC H1H 4Z7</div></div><div class=\\\"mt-1 d-flex\\\" data-reactroot=\\\"\\\"><a href=\\\"https://www.google.com/maps/search/?api=1&amp;query=10400,%20avenue%20de%20Belleville%20Montr%C3%A9al%20H1H%204Z7%20QC,%20CA\\\" class=\\\"link-sm is-external-link\\\" title=\\\"Get an itinerary\\\">Get an itinerary</a></div>\"}},{\"type\":\"Feature\",\"geometry\":{\"type\":\"Point\",\"coordinates\":[-73.630973995251,45.466297169481]},\"properties\":{\"description\":\"<div class=\\\"font-size-sm-interface\\\"><a href=\\\"/en/places/bibliotheque-benny\\\" class=\\\"link-sm link-list-element\\\"><span class=\\\"link-label\\\">Bibliothèque Benny</span></a><div>6400, avenue de Monkland<br/>Montréal, QC H4B 1H3</div></div><div class=\\\"mt-1 d-flex\\\" data-reactroot=\\\"\\\"><a href=\\\"https://www.google.com/maps/search/?api=1&amp;query=6400,%20avenue%20de%20Monkland%20Montr%C3%A9al%20H4B%201H3%20QC,%20CA\\\" class=\\\"link-sm is-external-link\\\" title=\\\"Get an itinerary\\\">Get an itinerary</a></div>\"}},{\"type\":\"Feature\",\"geometry\":{\"type\":\"Point\",\"coordinates\":[-73.662956,45.553373]},\"properties\":{\"description\":\"<div class=\\\"font-size-sm-interface\\\"><a href=\\\"/en/places/bibliotheque-dahuntsic\\\" class=\\\"link-sm link-list-element\\\"><span class=\\\"link-label\\\">Bibliothèque d&#x27;Ahuntsic</span></a><div>10300, rue Lajeunesse<br/>Montréal, QC H3L 2E5</div></div><div class=\\\"mt-1 d-flex\\\" data-reactroot=\\\"\\\"><a href=\\\"https://www.google.com/maps/search/?api=1&amp;query=10300,%20rue%20Lajeunesse%20Montr%C3%A9al%20H3L%202E5%20QC,%20CA\\\" class=\\\"link-sm is-external-link\\\" title=\\\"Get an itinerary\\\">Get an itinerary</a></div>\"}}]\n",
    "'''"
   ]
  },
  {
   "cell_type": "code",
   "execution_count": null,
   "metadata": {},
   "outputs": [],
   "source": [
    "test.split('}},{')"
   ]
  },
  {
   "cell_type": "code",
   "execution_count": null,
   "metadata": {},
   "outputs": [],
   "source": [
    "import re"
   ]
  },
  {
   "cell_type": "code",
   "execution_count": null,
   "metadata": {},
   "outputs": [],
   "source": [
    "import re\n",
    "\n",
    "txt = \"The rain in Spain\"\n",
    "x = re.search(\"^The.*Spain$\", txt) "
   ]
  },
  {
   "cell_type": "code",
   "execution_count": null,
   "metadata": {},
   "outputs": [],
   "source": [
    "x"
   ]
  },
  {
   "cell_type": "code",
   "execution_count": null,
   "metadata": {},
   "outputs": [],
   "source": [
    "for lib in test.split('}},{'):\n",
    "    x = re.findall(r'\"coordinates\":(\\[.*\\])}', lib)\n",
    "    print(x)\n",
    "    name = re.findall(r'<span class=\"link-label\">(.*)</span>', lib)\n",
    "    print(x)"
   ]
  },
  {
   "cell_type": "code",
   "execution_count": null,
   "metadata": {},
   "outputs": [],
   "source": [
    "i=1\n",
    "for lib in test_all.split('}},{'):\n",
    "    print(i)\n",
    "    i=i+1\n",
    "    x = re.findall(r'\"coordinates\":(\\[.*?\\])}', lib)\n",
    "    print(x)\n",
    "    x = re.findall(r'<span class=\"link-label\">(.*)</span>', lib)\n",
    "    print(x)"
   ]
  },
  {
   "cell_type": "code",
   "execution_count": null,
   "metadata": {},
   "outputs": [],
   "source": [
    "for lib in test.split('}},{'):\n",
    "    loc = re.findall(r'\"coordinates\":\\[(.*)\\]}', lib)\n",
    "    name = re.findall(r'<span class=\"link-label\">(.*)</span>', lib)\n",
    "    print(name[0])\n",
    "    print(loc[0].split(','))"
   ]
  },
  {
   "cell_type": "code",
   "execution_count": null,
   "metadata": {},
   "outputs": [],
   "source": [
    "libraries = {}\n",
    "for lib in test_all.split('}},{'):\n",
    "    loc = re.findall(r'\"coordinates\":\\[(.*)?\\]}', lib)\n",
    "    loc = loc[0].split(',')\n",
    "    location = {}\n",
    "    location['Latitude'] = loc[1]\n",
    "    location['Longitude'] = loc[0]\n",
    "    name = re.findall(r'<span class=\"link-label\">(.*)</span>', lib)[0]\n",
    "    name = name.replace(\"&#x27;\", \"'\")\n",
    "    libraries[name] = location"
   ]
  },
  {
   "cell_type": "code",
   "execution_count": null,
   "metadata": {},
   "outputs": [],
   "source": [
    "import pprint"
   ]
  },
  {
   "cell_type": "code",
   "execution_count": null,
   "metadata": {},
   "outputs": [],
   "source": [
    "name = \"Bibliothèque L&#x27;Octogone\""
   ]
  },
  {
   "cell_type": "code",
   "execution_count": null,
   "metadata": {},
   "outputs": [],
   "source": [
    "name.replace(\"&#x27;\", \"'\")"
   ]
  },
  {
   "cell_type": "code",
   "execution_count": null,
   "metadata": {},
   "outputs": [],
   "source": [
    "pprint.pprint(libraries)"
   ]
  },
  {
   "cell_type": "code",
   "execution_count": null,
   "metadata": {},
   "outputs": [],
   "source": [
    "def get_montreal_locations():\n",
    "    with open('montreal_scraped_text.txt') as file:\n",
    "        scraped_text = file.read()\n",
    "    montreal_libraries = {}\n",
    "    for lib in scraped_text.split('}},{'):\n",
    "        loc = re.findall(r'\"coordinates\":\\[(.*?)\\]}', lib)\n",
    "        loc = loc[0].split(',')\n",
    "        location = {}\n",
    "        location['Latitude'] = loc[1]\n",
    "        location['Longitude'] = loc[0]\n",
    "        name = re.findall(r'<span class=\\\\\"link-label\\\\\">(.*)</span>', lib)[0]\n",
    "        name = name.replace(\"&#x27;\", \"'\")\n",
    "        name = name.replace('Ã¨', 'è')\n",
    "        montreal_libraries[name] = location\n",
    "    return montreal_libraries"
   ]
  },
  {
   "cell_type": "code",
   "execution_count": null,
   "metadata": {},
   "outputs": [],
   "source": [
    "get_montreal_locations()"
   ]
  },
  {
   "cell_type": "code",
   "execution_count": null,
   "metadata": {},
   "outputs": [],
   "source": []
  }
 ],
 "metadata": {
  "kernelspec": {
   "display_name": "Python 3",
   "language": "python",
   "name": "python3"
  },
  "language_info": {
   "codemirror_mode": {
    "name": "ipython",
    "version": 3
   },
   "file_extension": ".py",
   "mimetype": "text/x-python",
   "name": "python",
   "nbconvert_exporter": "python",
   "pygments_lexer": "ipython3",
   "version": "3.7.4"
  }
 },
 "nbformat": 4,
 "nbformat_minor": 2
}
