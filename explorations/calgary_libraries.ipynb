{
 "cells": [
  {
   "cell_type": "markdown",
   "metadata": {},
   "source": [
    "Looking to align output with the output of ottawa_libraries.py.\n",
    "Specifically:\n",
    "```\n",
    "{lib_name:\n",
    "    {\n",
    "        Latitude: lat\n",
    "        Longitude: long\n",
    "    }\n",
    "}\n",
    "```"
   ]
  },
  {
   "cell_type": "markdown",
   "metadata": {},
   "source": [
    "Data from [here](https://data.calgary.ca/Recreation-and-Culture/Calgary-Public-Library-Locations-and-Hours-Map/niu9-34wk)."
   ]
  },
  {
   "cell_type": "markdown",
   "metadata": {},
   "source": [
    "#### Pull data"
   ]
  },
  {
   "cell_type": "code",
   "execution_count": null,
   "metadata": {},
   "outputs": [],
   "source": [
    "import urllib.request\n",
    "import json "
   ]
  },
  {
   "cell_type": "code",
   "execution_count": null,
   "metadata": {},
   "outputs": [],
   "source": [
    "url = \"https://data.calgary.ca/resource/niu9-34wk.json\"\n",
    "calgary_data = urllib.request.urlopen(url).read()\n",
    "data = json.loads(calgary_data)"
   ]
  },
  {
   "cell_type": "code",
   "execution_count": null,
   "metadata": {},
   "outputs": [],
   "source": [
    "type(data)"
   ]
  },
  {
   "cell_type": "code",
   "execution_count": null,
   "metadata": {},
   "outputs": [],
   "source": [
    "len(data)"
   ]
  },
  {
   "cell_type": "code",
   "execution_count": null,
   "metadata": {},
   "outputs": [],
   "source": [
    "type(data[0])"
   ]
  },
  {
   "cell_type": "code",
   "execution_count": null,
   "metadata": {},
   "outputs": [],
   "source": [
    "data[0].keys()"
   ]
  },
  {
   "cell_type": "code",
   "execution_count": null,
   "metadata": {},
   "outputs": [],
   "source": [
    "import pprint"
   ]
  },
  {
   "cell_type": "code",
   "execution_count": null,
   "metadata": {},
   "outputs": [],
   "source": [
    "pprint.pprint(data[0])"
   ]
  },
  {
   "cell_type": "code",
   "execution_count": null,
   "metadata": {},
   "outputs": [],
   "source": [
    "pprint.pprint(data)"
   ]
  },
  {
   "cell_type": "code",
   "execution_count": null,
   "metadata": {},
   "outputs": [],
   "source": [
    "calgary_libraries = {}\n",
    "for lib in data:\n",
    "    location = {}\n",
    "    location['Latitude'] = lib['location']['latitude']\n",
    "    location['Longitude'] = lib['location']['longitude']\n",
    "    calgary_libraries[lib['library']] = location"
   ]
  },
  {
   "cell_type": "code",
   "execution_count": null,
   "metadata": {},
   "outputs": [],
   "source": [
    "pprint.pprint(calgary_library)"
   ]
  },
  {
   "cell_type": "markdown",
   "metadata": {},
   "source": [
    "#### See if we can map easily"
   ]
  },
  {
   "cell_type": "code",
   "execution_count": null,
   "metadata": {},
   "outputs": [],
   "source": [
    "%matplotlib inline\n",
    "import os\n",
    "import geopandas as gpd\n",
    "import matplotlib.pyplot as plt\n",
    "import pandas as pd\n",
    "import shapely\n",
    "import ottawa_libraries as ol"
   ]
  },
  {
   "cell_type": "code",
   "execution_count": null,
   "metadata": {},
   "outputs": [],
   "source": [
    "# open and plot the data. looks like Toronto\n",
    "census_file = 'data/census_tracts.shp'\n",
    "canada_census = gpd.read_file(census_file)"
   ]
  },
  {
   "cell_type": "code",
   "execution_count": null,
   "metadata": {},
   "outputs": [],
   "source": [
    "calgary_census = canada_census[(canada_census.CMANAME==\"Calgary\")]"
   ]
  },
  {
   "cell_type": "code",
   "execution_count": null,
   "metadata": {},
   "outputs": [],
   "source": [
    "libraries = pd.DataFrame(calgary_library)\n",
    "# pivot the dataframe\n",
    "libraries = libraries.T.reset_index()\n",
    "libraries = libraries.rename(columns={'index':'Name'})"
   ]
  },
  {
   "cell_type": "code",
   "execution_count": null,
   "metadata": {},
   "outputs": [],
   "source": [
    "libraries['Latitude'] = pd.to_numeric(libraries['Latitude'])\n",
    "libraries['Longitude'] = pd.to_numeric(libraries['Longitude'])"
   ]
  },
  {
   "cell_type": "code",
   "execution_count": null,
   "metadata": {},
   "outputs": [],
   "source": [
    "libraries['geometry'] = libraries.apply(lambda x:\n",
    "                                                shapely.geometry.point.Point(x['Longitude'], x['Latitude']),\n",
    "                                                axis=1)\n",
    "libraries_gpd = gpd.GeoDataFrame(libraries)"
   ]
  },
  {
   "cell_type": "code",
   "execution_count": null,
   "metadata": {},
   "outputs": [],
   "source": [
    "m = calgary_census.explore()\n",
    "libraries_gpd.explore(m=m, color='red')"
   ]
  },
  {
   "cell_type": "markdown",
   "metadata": {},
   "source": [
    "#### Add in density"
   ]
  },
  {
   "cell_type": "code",
   "execution_count": null,
   "metadata": {},
   "outputs": [],
   "source": [
    "pop_data = pd.read_csv('data/98-401-X2016043_eng_CSV/98-401-X2016043_English_CSV_data.csv')"
   ]
  },
  {
   "cell_type": "code",
   "execution_count": null,
   "metadata": {},
   "outputs": [],
   "source": [
    "calgary_pop_data = pop_data[pop_data['GEO_CODE (POR)'].isin(calgary_census.CTUID)]"
   ]
  },
  {
   "cell_type": "code",
   "execution_count": null,
   "metadata": {},
   "outputs": [],
   "source": [
    "calgary_pop_data = calgary_pop_data.loc[calgary_pop_data[\"DIM: Profile of Census Tracts (2247)\"]=='Population, 2016']\n",
    "calgary_pop_data['population'] = calgary_pop_data['Dim: Sex (3): Member ID: [1]: Total - Sex']\n",
    "calgary_pop_data['population'] = pd.to_numeric(calgary_pop_data['population'])\n",
    "calgary_pop_data['population'] = pd.to_numeric(calgary_pop_data['population'])\n",
    "\n",
    "calgary_census['CTUID'] = pd.to_numeric(calgary_census['CTUID'])\n",
    "calgary_census = calgary_census.merge(right=calgary_pop_data, how='left',\n",
    "                              left_on='CTUID', right_on='GEO_CODE (POR)')"
   ]
  },
  {
   "cell_type": "code",
   "execution_count": null,
   "metadata": {},
   "outputs": [],
   "source": [
    "calgary_census['density'] = calgary_census['population']/calgary_census.area"
   ]
  },
  {
   "cell_type": "code",
   "execution_count": null,
   "metadata": {},
   "outputs": [],
   "source": [
    "calgary_census_display = calgary_census[['geometry', 'population', 'density']]\n",
    "m = calgary_census_display.explore(column='density')\n",
    "libraries_gpd.explore(m=m, color='red')"
   ]
  }
 ],
 "metadata": {
  "kernelspec": {
   "display_name": "Python 3",
   "language": "python",
   "name": "python3"
  },
  "language_info": {
   "codemirror_mode": {
    "name": "ipython",
    "version": 3
   },
   "file_extension": ".py",
   "mimetype": "text/x-python",
   "name": "python",
   "nbconvert_exporter": "python",
   "pygments_lexer": "ipython3",
   "version": "3.7.4"
  }
 },
 "nbformat": 4,
 "nbformat_minor": 2
}
