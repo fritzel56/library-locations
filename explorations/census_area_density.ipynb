{
 "cells": [
  {
   "cell_type": "code",
   "execution_count": null,
   "metadata": {},
   "outputs": [],
   "source": [
    "%matplotlib inline\n",
    "import os\n",
    "import geopandas as gpd\n",
    "import matplotlib.pyplot as plt\n",
    "import pandas as pd\n",
    "import shapely\n",
    "import ottawa_libraries as ol"
   ]
  },
  {
   "cell_type": "code",
   "execution_count": null,
   "metadata": {},
   "outputs": [],
   "source": [
    "# open and plot the data. looks like Toronto\n",
    "census_file = 'data/census_tracts.shp'\n",
    "canada_census = gpd.read_file(census_file)\n",
    "ottawa_census = canada_census[(canada_census.CMANAME==\"Ottawa - Gatineau (Ontario part / partie de l'Ontario)\")].copy()"
   ]
  },
  {
   "cell_type": "code",
   "execution_count": null,
   "metadata": {},
   "outputs": [],
   "source": [
    "pop_data = pd.read_csv('data/98-401-X2016043_eng_CSV/98-401-X2016043_English_CSV_data.csv')\n",
    "ottawa_census_data = pop_data[pop_data['GEO_CODE (POR)'].isin(ottawa_census.CTUID)]"
   ]
  },
  {
   "cell_type": "code",
   "execution_count": null,
   "metadata": {},
   "outputs": [],
   "source": [
    "ottawa_area_data = ottawa_census_data.loc[ottawa_census_data[\"DIM: Profile of Census Tracts (2247)\"]=='Land area in square kilometres'].copy()\n",
    "ottawa_area_data['area'] = ottawa_area_data[\"Dim: Sex (3): Member ID: [1]: Total - Sex\"]\n",
    "ottawa_area_data = ottawa_area_data[['GEO_CODE (POR)', 'area']]"
   ]
  },
  {
   "cell_type": "code",
   "execution_count": null,
   "metadata": {},
   "outputs": [],
   "source": [
    "ottawa_pop_data = ottawa_census_data.loc[ottawa_census_data[\"DIM: Profile of Census Tracts (2247)\"]=='Population, 2016'].copy()\n",
    "ottawa_pop_data['population'] = ottawa_pop_data[\"Dim: Sex (3): Member ID: [1]: Total - Sex\"]\n",
    "ottawa_pop_data = ottawa_pop_data[['GEO_CODE (POR)', 'population']]"
   ]
  },
  {
   "cell_type": "code",
   "execution_count": null,
   "metadata": {},
   "outputs": [],
   "source": [
    "ottawa_density_data = ottawa_census_data.loc[ottawa_census_data[\"DIM: Profile of Census Tracts (2247)\"]=='Population density per square kilometre'].copy()\n",
    "ottawa_density_data['density'] = ottawa_density_data[\"Dim: Sex (3): Member ID: [1]: Total - Sex\"]\n",
    "ottawa_density_data = ottawa_density_data[['GEO_CODE (POR)', 'density']]"
   ]
  },
  {
   "cell_type": "code",
   "execution_count": null,
   "metadata": {},
   "outputs": [],
   "source": [
    "ottawa_joined = ottawa_area_data.merge(ottawa_pop_data).merge(ottawa_density_data)"
   ]
  },
  {
   "cell_type": "code",
   "execution_count": null,
   "metadata": {},
   "outputs": [],
   "source": [
    "ottawa_joined['population'] = pd.to_numeric(ottawa_joined['population'])\n",
    "ottawa_joined['area'] = pd.to_numeric(ottawa_joined['area'])\n",
    "ottawa_joined['density'] = pd.to_numeric(ottawa_joined['density'])\n",
    "ottawa_joined['new_density'] = ottawa_joined['population'] / ottawa_joined['area']"
   ]
  },
  {
   "cell_type": "code",
   "execution_count": null,
   "metadata": {},
   "outputs": [],
   "source": [
    "ottawa_joined['rel_dif'] = (ottawa_joined['density'] - ottawa_joined['new_density']) / ottawa_joined['density']"
   ]
  },
  {
   "cell_type": "code",
   "execution_count": null,
   "metadata": {},
   "outputs": [],
   "source": [
    "# was expecting this to be even closer than it is but the peak difference is <2 %\n",
    "ottawa_joined.rel_dif.describe()"
   ]
  },
  {
   "cell_type": "code",
   "execution_count": null,
   "metadata": {},
   "outputs": [],
   "source": [
    "ottawa_joined.head()"
   ]
  },
  {
   "cell_type": "markdown",
   "metadata": {},
   "source": [
    "#### Can we understand the issue with the projections?\n",
    "So it turns out the world of projections is super complicated. I found [this](https://gis.stackexchange.com/questions/372564/userwarning-when-trying-to-get-centroid-from-a-polygon-geopandas) article super useful."
   ]
  },
  {
   "cell_type": "code",
   "execution_count": null,
   "metadata": {},
   "outputs": [],
   "source": [
    "ottawa_census['CTUID'] = pd.to_numeric(ottawa_census['CTUID'])"
   ]
  },
  {
   "cell_type": "code",
   "execution_count": null,
   "metadata": {},
   "outputs": [],
   "source": [
    "ottawa_census['calc_area'] = ottawa_census.area/1000/1000"
   ]
  },
  {
   "cell_type": "code",
   "execution_count": null,
   "metadata": {},
   "outputs": [],
   "source": [
    "ottawa_census = ottawa_census.merge(ottawa_joined, left_on='CTUID', right_on='GEO_CODE (POR)')"
   ]
  },
  {
   "cell_type": "code",
   "execution_count": null,
   "metadata": {},
   "outputs": [],
   "source": [
    "# now much closer and the units actually make sense\n",
    "ottawa_census.loc[ottawa_census.CTUID == 5050038, ['calc_area', 'area']]"
   ]
  },
  {
   "cell_type": "code",
   "execution_count": null,
   "metadata": {},
   "outputs": [],
   "source": [
    "ottawa_census = ottawa_census.to_crs('epsg:4326')"
   ]
  },
  {
   "cell_type": "code",
   "execution_count": null,
   "metadata": {},
   "outputs": [],
   "source": [
    "ottawa_census.crs"
   ]
  },
  {
   "cell_type": "code",
   "execution_count": null,
   "metadata": {},
   "outputs": [],
   "source": [
    "# it appears to be angry because the units are in degrees\n",
    "ottawa_census.area"
   ]
  },
  {
   "cell_type": "code",
   "execution_count": null,
   "metadata": {},
   "outputs": [],
   "source": [
    "ottawa_census = ottawa_census.to_crs('+proj=cea')"
   ]
  },
  {
   "cell_type": "code",
   "execution_count": null,
   "metadata": {},
   "outputs": [],
   "source": [
    "ottawa_census.crs"
   ]
  },
  {
   "cell_type": "code",
   "execution_count": null,
   "metadata": {},
   "outputs": [],
   "source": [
    "ottawa_census['calc_area2'] = ottawa_census.area/1000/1000"
   ]
  },
  {
   "cell_type": "code",
   "execution_count": null,
   "metadata": {},
   "outputs": [],
   "source": [
    "# lines up really nicely now and actually gives an answer closer to the one I'd measured.\n",
    "ottawa_census.loc[ottawa_census.CTUID == 5050038, ['calc_area', 'area', 'calc_area2']]"
   ]
  },
  {
   "cell_type": "code",
   "execution_count": null,
   "metadata": {},
   "outputs": [],
   "source": []
  }
 ],
 "metadata": {
  "kernelspec": {
   "display_name": "Python 3",
   "language": "python",
   "name": "python3"
  },
  "language_info": {
   "codemirror_mode": {
    "name": "ipython",
    "version": 3
   },
   "file_extension": ".py",
   "mimetype": "text/x-python",
   "name": "python",
   "nbconvert_exporter": "python",
   "pygments_lexer": "ipython3",
   "version": "3.7.4"
  }
 },
 "nbformat": 4,
 "nbformat_minor": 2
}
